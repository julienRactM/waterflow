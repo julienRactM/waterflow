{
 "cells": [
  {
   "cell_type": "markdown",
   "metadata": {
    "slideshow": {
     "slide_type": "slide"
    }
   },
   "source": [
    "# Waterflow Project\n",
    "Développement d'un outil visant à estimer la potabilité de l'eau.\n",
    "\n",
    "<img src=\"img/drunk_beaver2.png\" alt=\"Drunk Beaver\" width=\"60%\">"
   ]
  },
  {
   "cell_type": "markdown",
   "metadata": {
    "slideshow": {
     "slide_type": "slide"
    }
   },
   "source": [
    "## Data Exploration\n",
    "<img src=\"img/drunk_beaver1.png\" alt=\"Drunk Beaver\" width=\"74%\">"
   ]
  },
  {
   "cell_type": "markdown",
   "metadata": {
    "slideshow": {
     "slide_type": "subslide"
    }
   },
   "source": [
    "<img src=\"img/output.png\" alt=\"MSNO\" width=\"140%\">\n",
    "\n",
    "pourcentage d'entrées avec un ph compris entre 6.5 et 8.5 : 40%"
   ]
  },
  {
   "cell_type": "markdown",
   "metadata": {
    "slideshow": {
     "slide_type": "slide"
    }
   },
   "source": [
    "## Préparation de la donnée\n",
    "\n",
    "- Supression des Outliers\n",
    "\n",
    "- `Imputation des valeurs manquantes pas la médiane`\n",
    "\n",
    "- Oversampling sur la classe 1 Potable\n",
    "\n",
    "- Robust Scaling"
   ]
  },
  {
   "cell_type": "markdown",
   "metadata": {
    "slideshow": {
     "slide_type": "slide"
    }
   },
   "source": [
    "## Feature Selection \n",
    "`SelectKBest`\n",
    "\n",
    "Elimine :\n",
    "\n",
    "- **ph**\n",
    "- **turbidité**\n",
    "\n",
    "On décide de conserver ces variables."
   ]
  },
  {
   "cell_type": "markdown",
   "metadata": {
    "slideshow": {
     "slide_type": "subslide"
    }
   },
   "source": [
    "#### **Multicolinearity**\n",
    "##### `VIF`\n",
    "\n",
    "\n",
    "<img src=\"img/Capture d'écran 2024-05-29 120122.png\" alt=\"Racoon Hunting Client\" width=\"90%\">\n"
   ]
  },
  {
   "cell_type": "markdown",
   "metadata": {
    "slideshow": {
     "slide_type": "subslide"
    }
   },
   "source": [
    "\n",
    "<img src=\"img/drunk_beaver3.png\" alt=\"Drunk Beaver3\" width=\"90%\">\n"
   ]
  },
  {
   "cell_type": "markdown",
   "metadata": {
    "slideshow": {
     "slide_type": "slide"
    }
   },
   "source": [
    "## Deep Learning\n",
    "\n",
    "<img src=\"img/Capture d'écran 2024-05-29 123300.png\" alt=\"Drunk Beaver4\" width=\"100%\">"
   ]
  },
  {
   "cell_type": "markdown",
   "metadata": {
    "slideshow": {
     "slide_type": "slide"
    }
   },
   "source": [
    "## Data Engineering"
   ]
  },
  {
   "cell_type": "markdown",
   "metadata": {
    "slideshow": {
     "slide_type": "subslide"
    }
   },
   "source": [
    "<img src=\"img/drunk_beaver4.png\" alt=\"Drunk Beaver4\" width=\"90%\">"
   ]
  },
  {
   "cell_type": "markdown",
   "metadata": {
    "slideshow": {
     "slide_type": "slide"
    }
   },
   "source": [
    "##  Conclusion\n",
    "\n",
    "- Dataset Inexploitable\n",
    "- Peak d'accuracy du model à 0.68\n",
    "\n",
    "#### **L'outil n'est pas suffisament fiable pour être utilisé pour estimer avec suffisament de fiabilité la potabilité de l'eau.**"
   ]
  },
  {
   "cell_type": "markdown",
   "metadata": {
    "slideshow": {
     "slide_type": "subslide"
    }
   },
   "source": [
    "<img src=\"img/Modern design.png\" alt=\"Poor Squirel\" width=\"100%\">"
   ]
  }
 ],
 "metadata": {
  "kernelspec": {
   "display_name": "waterflow",
   "language": "python",
   "name": "python3"
  },
  "language_info": {
   "codemirror_mode": {
    "name": "ipython",
    "version": 3
   },
   "file_extension": ".py",
   "mimetype": "text/x-python",
   "name": "python",
   "nbconvert_exporter": "python",
   "pygments_lexer": "ipython3",
   "version": "3.8.12"
  }
 },
 "nbformat": 4,
 "nbformat_minor": 2
}
